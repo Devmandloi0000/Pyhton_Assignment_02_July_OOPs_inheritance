{
 "cells": [
  {
   "cell_type": "markdown",
   "id": "dfda63d9",
   "metadata": {},
   "source": [
    "# 02_July_OOPs_inheritance"
   ]
  },
  {
   "cell_type": "code",
   "execution_count": null,
   "id": "dd91dc2a",
   "metadata": {},
   "outputs": [],
   "source": [
    "1. Explain what inheritance is in object-oriented programming and why it is used.\n",
    "2. Discuss the concept of single inheritance and multiple inheritance, highlighting their\n",
    "differences and advantages.\n",
    "3. Explain the terms \"base class\" and \"derived class\" in the context of inheritance.\n",
    "4. What is the significance of the \"protected\" access modifier in inheritance? How does\n",
    "it differ from \"private\" and \"public\" modifiers?\n",
    "5. What is the purpose of the \"super\" keyword in inheritance? Provide an example.\n",
    "6. Create a base class called \"Vehicle\" with attributes like \"make\", \"model\", and \"year\".\n",
    "Then, create a derived class called \"Car\" that inherits from \"Vehicle\" and adds an\n",
    "attribute called \"fuel_type\". Implement appropriate methods in both classes.\n",
    "7. Create a base class called \"Employee\" with attributes like \"name\" and \"salary.\"\n",
    "Derive two classes, \"Manager\" and \"Developer,\" from \"Employee.\" Add an additional\n",
    "attribute called \"department\" for the \"Manager\" class and \"programming_language\"\n",
    "for the \"Developer\" class.\n",
    "8. Design a base class called \"Shape\" with attributes like \"colour\" and \"border_width.\"\n",
    "Create derived classes, \"Rectangle\" and \"Circle,\" that inherit from \"Shape\" and add\n",
    "specific attributes like \"length\" and \"width\" for the \"Rectangle\" class and \"radius\" for\n",
    "the \"Circle\" class.\n",
    "9. Create a base class called \"Device\" with attributes like \"brand\" and \"model.\" Derive\n",
    "two classes, \"Phone\" and \"Tablet,\" from \"Device.\" Add specific attributes like\n",
    "\"screen_size\" for the \"Phone\" class and \"battery_capacity\" for the \"Tablet\" class.\n",
    "10. Create a base class called \"BankAccount\" with attributes like \"account_number\" and\n",
    "\"balance.\" Derive two classes, \"SavingsAccount\" and \"CheckingAccount,\" from\n",
    "\"BankAccount.\" Add specific methods like \"calculate_interest\" for the\n",
    "\"SavingsAccount\" class and \"deduct_fees\" for the \"CheckingAccount\" class."
   ]
  },
  {
   "cell_type": "markdown",
   "id": "d27f6298",
   "metadata": {},
   "source": [
    "# QUE(1)"
   ]
  },
  {
   "cell_type": "markdown",
   "id": "bb420e4d",
   "metadata": {},
   "source": [
    "1. Explain what inheritance is in object-oriented programming and why it is used."
   ]
  },
  {
   "cell_type": "markdown",
   "id": "fe661172",
   "metadata": {},
   "source": [
    "solution :-\n",
    "        \n",
    "        inheritance is the property of the class in which we inheritant a properties from the differnt differnt class. \n",
    "        in which propertity is inheritant by the parent class.\n",
    "        Types of the inheritance properties are :-\n",
    "        1) Single inheritance\n",
    "        2) Multiple inheritance\n",
    "        3) Multilevel inheritance\n",
    "        4) Hierarchical inheritance\n",
    "        5) hybrid inhertance"
   ]
  },
  {
   "cell_type": "markdown",
   "id": "b34c05e9",
   "metadata": {},
   "source": [
    "# QUE(2)"
   ]
  },
  {
   "cell_type": "markdown",
   "id": "e0f55cd5",
   "metadata": {},
   "source": [
    "2. Discuss the concept of single inheritance and multiple inheritance, highlighting their\n",
    "differences and advantages."
   ]
  },
  {
   "cell_type": "markdown",
   "id": "e29889c4",
   "metadata": {},
   "source": [
    "solution :- \n",
    "    \n",
    "        Single inheritance :- where subclass inheritate the propertity of the superclass\n",
    "        \n",
    "        Multiple inheritance :- there are multiple super class and propertity is inheritate by single subclass or \n",
    "                                there are many parent class and propertity is inheritant by only single child class\n",
    "                \n",
    "        there differemce is :-\n",
    "            1) only single parent and single child class are inheritant a propertity whereas in multiple inheritance there \n",
    "               are many super class and single child class inheritate a property\n",
    "            2) easy to handle and other one is complex due to more availability of the super class\n",
    "            3) there are only one feature at a time but there are many "
   ]
  },
  {
   "cell_type": "markdown",
   "id": "c592310e",
   "metadata": {},
   "source": [
    "# QUE(3)"
   ]
  },
  {
   "cell_type": "markdown",
   "id": "15420b83",
   "metadata": {},
   "source": [
    "3. Explain the terms \"base class\" and \"derived class\" in the context of inheritance."
   ]
  },
  {
   "cell_type": "markdown",
   "id": "80701cfa",
   "metadata": {},
   "source": [
    "solution :-\n",
    "    \n",
    "        Base class :- represent the child or sub class\n",
    "        derived class :- represent the parent class or super class"
   ]
  },
  {
   "cell_type": "markdown",
   "id": "adb296f2",
   "metadata": {},
   "source": [
    "# QUE(4)"
   ]
  },
  {
   "cell_type": "markdown",
   "id": "0de189bb",
   "metadata": {},
   "source": [
    "4. What is the significance of the \"protected\" access modifier in inheritance? How does\n",
    "it differ from \"private\" and \"public\" modifiers?"
   ]
  },
  {
   "cell_type": "markdown",
   "id": "d7918e33",
   "metadata": {},
   "source": [
    "solution :-\n",
    " \n",
    "        there are 3 types encapsulation :- Private , Protected , Public\n",
    "        \n",
    "        private :- private does not allowed to access outside of the package class, it only allow in the class can not                        create a object\n",
    "        protected :- having access within the class and subclass it can not allow acces to outside of the class\n",
    "        public :- allow to access outside of the class"
   ]
  },
  {
   "cell_type": "markdown",
   "id": "2a6f785f",
   "metadata": {},
   "source": [
    "# QUE(5)\n",
    "\n"
   ]
  },
  {
   "cell_type": "markdown",
   "id": "1de2b5c0",
   "metadata": {},
   "source": [
    "5. What is the purpose of the \"super\" keyword in inheritance? Provide an example."
   ]
  },
  {
   "cell_type": "markdown",
   "id": "275b5d42",
   "metadata": {},
   "source": [
    "solution :- super is used to allow to call super class attributes"
   ]
  },
  {
   "cell_type": "code",
   "execution_count": 25,
   "id": "16c748e4",
   "metadata": {},
   "outputs": [],
   "source": [
    "# example \n",
    "\n",
    "class Emp:\n",
    "    \n",
    "    def __init__(self,name,id,branch,city):\n",
    "        self.name = name \n",
    "        self.id = id \n",
    "        self.branch = branch\n",
    "        self.city = city\n",
    "        \n",
    "    def __str__(self):\n",
    "        print(\"this is only for trail\")\n",
    "        \n",
    "class Detail(Emp):\n",
    "    \n",
    "    def __init__(self,name,id,branch,city,working_location, travel):\n",
    "        super().__init__(name,id,branch,city)\n",
    "        self.working_location = working_location\n",
    "        self.travel = travel\n",
    "        print(\"whole detail of the employer is :- \")\n",
    "        print(f\"name of the employee is {name}, id {id}, \\nbranch {branch} , city {city} \\nwrorking location {working_location} and travel by {travel}\")"
   ]
  },
  {
   "cell_type": "code",
   "execution_count": 26,
   "id": "124f050e",
   "metadata": {},
   "outputs": [
    {
     "name": "stdout",
     "output_type": "stream",
     "text": [
      "whole detail of the employer is :- \n",
      "name of the employee is devendra, id 20, \n",
      "branch indore headoffice , city dewas \n",
      "wrorking location ujjain and travel by bus\n"
     ]
    }
   ],
   "source": [
    "c = Detail(\"devendra\",20,\"indore headoffice\",\"dewas\",\"ujjain\",\"bus\")"
   ]
  },
  {
   "cell_type": "markdown",
   "id": "38d83921",
   "metadata": {},
   "source": [
    "# QUE(6)"
   ]
  },
  {
   "cell_type": "markdown",
   "id": "fa1ca5e3",
   "metadata": {},
   "source": [
    "6. Create a base class called \"Vehicle\" with attributes like \"make\", \"model\", and \"year\".\n",
    "Then, create a derived class called \"Car\" that inherits from \"Vehicle\" and adds an"
   ]
  },
  {
   "cell_type": "code",
   "execution_count": 34,
   "id": "3397c4f9",
   "metadata": {},
   "outputs": [],
   "source": [
    "class Vehical:\n",
    "    \n",
    "    def __init__(self,make,model,year):\n",
    "        self.make = make\n",
    "        self.model = model\n",
    "        self.year = year\n",
    "        \n",
    "class Car(Vehical):\n",
    "    \n",
    "    def __init__(self,make,model,year,color,price):\n",
    "        super().__init__(make,model,year)\n",
    "        self.color = color\n",
    "        self.price = price\n",
    "        \n",
    "        \n",
    "    def detail(self):\n",
    "        print(\"detail of the car\")\n",
    "        print(self.make,self.model,self.year,self.color,self.price)"
   ]
  },
  {
   "cell_type": "code",
   "execution_count": 35,
   "id": "d6f29889",
   "metadata": {},
   "outputs": [],
   "source": [
    "\n",
    "c = Car('tata',\"tiago\",2023,'blue',7500000)"
   ]
  },
  {
   "cell_type": "code",
   "execution_count": 36,
   "id": "e628b0e7",
   "metadata": {},
   "outputs": [
    {
     "name": "stdout",
     "output_type": "stream",
     "text": [
      "detail of the car\n",
      "tata tiago 2023 blue 7500000\n"
     ]
    }
   ],
   "source": [
    "c.detail()"
   ]
  },
  {
   "cell_type": "markdown",
   "id": "bad1c2bc",
   "metadata": {},
   "source": [
    "# QUE(7)"
   ]
  },
  {
   "cell_type": "markdown",
   "id": "f4b24323",
   "metadata": {},
   "source": [
    "7. Create a base class called \"Employee\" with attributes like \"name\" and \"salary.\"\n",
    "Derive two classes, \"Manager\" and \"Developer,\" from \"Employee.\" Add an additional\n",
    "attribute called \"department\" for the \"Manager\" class and \"programming_language\"\n",
    "for the \"Developer\" class."
   ]
  },
  {
   "cell_type": "code",
   "execution_count": 53,
   "id": "be0c3c1e",
   "metadata": {},
   "outputs": [],
   "source": [
    "class Employee: #---------->> class\n",
    "    \n",
    "    def __init__(self,name,salary): #---------->> initializer and attributes or variables\n",
    "        self.name = name\n",
    "        self.salary = salary\n",
    "        \n",
    "class Manager(Employee): #---------->> derived class or child class \n",
    "    \n",
    "    def __init__(self,name,salary,department):\n",
    "        super().__init__(name,salary)#---------->> super method to inheritance the propertity of the parent class\n",
    "        self.department = department\n",
    "        print(\"first child class active\")\n",
    "        print(f\"name of the employee is {self.name} \\nsalary of the employee is {self.salary} \\ndepartment of the employee is {self.department}\")      \n",
    "\n",
    "\n",
    "class Developer(Employee): #---------->> derived class \n",
    "    \n",
    "    def __init__(self,name,salary,programming_language):\n",
    "        super().__init__(name,salary)\n",
    "        self.programming_language = programming_language\n",
    "        print(\"second child class active\")\n",
    "        print(f\"name of the employee is {self.name} \\nsalary of the employee is {self.salary} \\ndepartment of the employee is {self.programming_language}\")    \n",
    "\n"
   ]
  },
  {
   "cell_type": "code",
   "execution_count": 54,
   "id": "9621c0ea",
   "metadata": {},
   "outputs": [
    {
     "name": "stdout",
     "output_type": "stream",
     "text": [
      "first child class active\n",
      "name of the employee is dev \n",
      "salary of the employee is 50000 \n",
      "department of the employee is data science\n"
     ]
    }
   ],
   "source": [
    "m = Manager(\"dev\",50000,\"data science\")"
   ]
  },
  {
   "cell_type": "code",
   "execution_count": 55,
   "id": "c2a9a0c1",
   "metadata": {},
   "outputs": [
    {
     "data": {
      "text/plain": [
       "'data science'"
      ]
     },
     "execution_count": 55,
     "metadata": {},
     "output_type": "execute_result"
    }
   ],
   "source": [
    "m.department"
   ]
  },
  {
   "cell_type": "code",
   "execution_count": 56,
   "id": "1ea963fa",
   "metadata": {},
   "outputs": [
    {
     "name": "stdout",
     "output_type": "stream",
     "text": [
      "second child class active\n",
      "name of the employee is shyam \n",
      "salary of the employee is 41000 \n",
      "department of the employee is python\n"
     ]
    }
   ],
   "source": [
    "d = Developer(\"shyam\",41000,\"python\")"
   ]
  },
  {
   "cell_type": "code",
   "execution_count": 57,
   "id": "94385af4",
   "metadata": {},
   "outputs": [
    {
     "data": {
      "text/plain": [
       "'shyam'"
      ]
     },
     "execution_count": 57,
     "metadata": {},
     "output_type": "execute_result"
    }
   ],
   "source": [
    "d.name"
   ]
  },
  {
   "cell_type": "markdown",
   "id": "41bbb716",
   "metadata": {},
   "source": [
    "# QUE(8)"
   ]
  },
  {
   "cell_type": "markdown",
   "id": "8c36c046",
   "metadata": {},
   "source": [
    "8. Design a base class called \"Shape\" with attributes like \"colour\" and \"border_width.\"\n",
    "Create derived classes, \"Rectangle\" and \"Circle,\" that inherit from \"Shape\" and add\n",
    "specific attributes like \"length\" and \"width\" for the \"Rectangle\" class and \"radius\" for\n",
    "the \"Circle\" class."
   ]
  },
  {
   "cell_type": "code",
   "execution_count": 69,
   "id": "e6a04ee5",
   "metadata": {},
   "outputs": [],
   "source": [
    "class Shape:\n",
    "    \n",
    "    def __init__(self,colour , border_width):\n",
    "        self.colour = colour\n",
    "        self.border_width = border_width\n",
    "        \n",
    "class Rectangle(Shape):\n",
    "    \n",
    "    def __init__(self,colour,border_width,length,width):\n",
    "        super().__init__(colour,border_width)\n",
    "        self.length = length\n",
    "        self.width = width\n",
    "        \n",
    "    def area_rectangle(self):\n",
    "        a = self.length * self.width\n",
    "        print(a)\n",
    "        \n",
    "    def perimeter_rec(self):\n",
    "        b = 2*self.length*self.width\n",
    "        print(b)\n",
    "        \n",
    "class Circle(Shape):\n",
    "    \n",
    "    def __init__(self,colour,border_width,radius):\n",
    "        super().__init__(colour,border_width)\n",
    "        self.radius = radius\n",
    "        \n",
    "    def area_circle(self):\n",
    "        c = 2.142*self.radius*self.radius\n",
    "        print(c)\n",
    "    "
   ]
  },
  {
   "cell_type": "code",
   "execution_count": 70,
   "id": "d07f6cd5",
   "metadata": {},
   "outputs": [],
   "source": [
    "r = Rectangle(\"blue\",\"red\",5,15)"
   ]
  },
  {
   "cell_type": "code",
   "execution_count": 71,
   "id": "f30650b0",
   "metadata": {},
   "outputs": [
    {
     "name": "stdout",
     "output_type": "stream",
     "text": [
      "75\n"
     ]
    }
   ],
   "source": [
    "r.area_rectangle()"
   ]
  },
  {
   "cell_type": "code",
   "execution_count": 72,
   "id": "764bd3ef",
   "metadata": {},
   "outputs": [
    {
     "name": "stdout",
     "output_type": "stream",
     "text": [
      "150\n"
     ]
    }
   ],
   "source": [
    "r.perimeter_rec()"
   ]
  },
  {
   "cell_type": "code",
   "execution_count": 73,
   "id": "dbf5c6c0",
   "metadata": {},
   "outputs": [],
   "source": [
    "c = Circle(\"red\",\"blue\",5)"
   ]
  },
  {
   "cell_type": "code",
   "execution_count": 74,
   "id": "317da73e",
   "metadata": {},
   "outputs": [
    {
     "name": "stdout",
     "output_type": "stream",
     "text": [
      "53.55\n"
     ]
    }
   ],
   "source": [
    "c.area_circle()"
   ]
  },
  {
   "cell_type": "markdown",
   "id": "99990d1f",
   "metadata": {},
   "source": [
    "# QUE(9)"
   ]
  },
  {
   "cell_type": "markdown",
   "id": "3a4f99ab",
   "metadata": {},
   "source": [
    "9. Create a base class called \"Device\" with attributes like \"brand\" and \"model.\" Derive\n",
    "two classes, \"Phone\" and \"Tablet,\" from \"Device.\" Add specific attributes like\n",
    "\"screen_size\" for the \"Phone\" class and \"battery_capacity\" for the \"Tablet\" class."
   ]
  },
  {
   "cell_type": "code",
   "execution_count": 130,
   "id": "45fb8125",
   "metadata": {},
   "outputs": [],
   "source": [
    "class Device:\n",
    "    \n",
    "    def specification(self,brand,model):\n",
    "        self.brand = brand\n",
    "        self.model = model\n",
    "        \n",
    "class Phone(Device):\n",
    "    \n",
    "    def __init__(self,brand,model,screen_size,battery):\n",
    "        super().specification(brand,model)\n",
    "        self.screen_size = screen_size\n",
    "        self.battery = battery\n",
    "        \n",
    "    def details(self):\n",
    "        self.charger = \"c-type\"\n",
    "        self.camera = \"40 mega pixel\"\n",
    "        print(f\"mobile phone contain a following information \\nmodel :- {self.model} \\nbrand :- {self.brand} \\nscreen :- {self.screen_size} \\nbattery :- {self.battery} \\ncharger :- {self.charger}\")\n",
    "        \n",
    "        \n",
    "class Tablet(Phone):\n",
    "    \n",
    "    def __init__(self,brand,model,screen_size,battery,processor):\n",
    "        super().__init__(brand,model,screen_size,battery)\n",
    "        #super().details(charger,camera)\n",
    "        self.processor = processor\n",
    "        #print(self.charger)\n",
    "        \n",
    "        \n",
    "    def details(self):\n",
    "        print(f\"tablet contain a following information \\nmodel :- {self.model} \\nbrand :- {self.brand} \\nscreen :- {self.screen_size} \\nprocessor :- {self.processor}\")\n",
    "        "
   ]
  },
  {
   "cell_type": "code",
   "execution_count": 131,
   "id": "f8e6cb0d",
   "metadata": {},
   "outputs": [],
   "source": [
    "p = Phone('Vivo',\"y17\",\"15 inch\",\"5000mah\")"
   ]
  },
  {
   "cell_type": "code",
   "execution_count": 132,
   "id": "4b1a9080",
   "metadata": {},
   "outputs": [
    {
     "name": "stdout",
     "output_type": "stream",
     "text": [
      "mobile phone contain a following information \n",
      "model :- y17 \n",
      "brand :- Vivo \n",
      "screen :- 15 inch \n",
      "battery :- 5000mah \n",
      "charger :- c-type\n"
     ]
    }
   ],
   "source": [
    "p.details()"
   ]
  },
  {
   "cell_type": "code",
   "execution_count": 133,
   "id": "5eca264d",
   "metadata": {},
   "outputs": [],
   "source": [
    "t = Tablet(\"Vivo\",\"y17\",\"20 inch\",\"4000MaH\",\"octacore\")"
   ]
  },
  {
   "cell_type": "code",
   "execution_count": 134,
   "id": "2350568a",
   "metadata": {},
   "outputs": [
    {
     "data": {
      "text/plain": [
       "'Vivo'"
      ]
     },
     "execution_count": 134,
     "metadata": {},
     "output_type": "execute_result"
    }
   ],
   "source": [
    "t.brand"
   ]
  },
  {
   "cell_type": "code",
   "execution_count": 135,
   "id": "634f7d4c",
   "metadata": {},
   "outputs": [
    {
     "name": "stdout",
     "output_type": "stream",
     "text": [
      "tablet contain a following information \n",
      "model :- y17 \n",
      "brand :- Vivo \n",
      "screen :- 20 inch \n",
      "processor :- octacore\n"
     ]
    }
   ],
   "source": [
    "t.details()"
   ]
  },
  {
   "cell_type": "markdown",
   "id": "85c60565",
   "metadata": {},
   "source": [
    "# QUE(10)"
   ]
  },
  {
   "cell_type": "markdown",
   "id": "6637dfe9",
   "metadata": {},
   "source": [
    "10. Create a base class called \"BankAccount\" with attributes like \"account_number\" and\n",
    "\"balance.\" Derive two classes, \"SavingsAccount\" and \"CheckingAccount,\" from\n",
    "\"BankAccount.\" Add specific methods like \"calculate_interest\" for the\n",
    "\"SavingsAccount\" class and \"deduct_fees\" for the \"CheckingAccount\" class."
   ]
  },
  {
   "cell_type": "code",
   "execution_count": 200,
   "id": "15688060",
   "metadata": {},
   "outputs": [],
   "source": [
    "class BankAccount:\n",
    "    \n",
    "    def __init__(self,name,ac_no,contact,balance=0):\n",
    "        self.name = name\n",
    "        self.ac_no = ac_no\n",
    "        self.contact = contact\n",
    "        self.balance = balance\n",
    "        \n",
    "    def dabit(self,debit_ammount):\n",
    "        self.debit_ammount = debit_ammount\n",
    "        if self.balance == 0:\n",
    "            print(\"please maintain a sufficient balance \")\n",
    "        else:\n",
    "            self.balance = self.balance - self.debit_ammount\n",
    "            print(f\"ammount is debited from your ac no {self.ac_no} and ammount is debit {self.debit_ammount} \\naccount balance is {self.balance}\")\n",
    "        \n",
    "    def credit(self,credit_ammount):\n",
    "        self.credit_ammount = credit_ammount\n",
    "        self.balance = self.balance + self.credit_ammount\n",
    "        print(f\"total balace is {self.balance} and credit ammount is {self.credit_ammount}\")\n",
    "        \n",
    "class SavingAccount(BankAccount):\n",
    "    \n",
    "    def interest_rate(self,name,ac_no,contact,balance,credit_ammount):\n",
    "        super().__init__(name,ac_no,contact,balance,)\n",
    "        super().credit(credit_ammount)\n",
    "        print(f\"intrest rate for saving account is 5% as per total balance\")\n",
    "        if self.balance < 1000:\n",
    "            print(\"intrest rate is 2%\")\n",
    "            a = self.balance * 2/100\n",
    "            self.balance += a\n",
    "            print(f\"intrest is on total balance below {self.balance} and intrest is  {a}\")\n",
    "        elif self.balance > 1000 or self.balance < 2000:\n",
    "            print(\"intrest rate is 3%\")\n",
    "            a = self.balance * 3/100\n",
    "            self.balance += a\n",
    "            print(f\"intrest is on total balance below {self.balance} and intrest is  {a}\")\n",
    "        elif self.balance > 2000:\n",
    "            print(\"intrest rate is 5%\")\n",
    "            a = self.balance * 5/100\n",
    "            self.balance += a\n",
    "            print(f\"intrest is on total balance below {self.balance} and intrest is {a} \")\n",
    "            "
   ]
  },
  {
   "cell_type": "code",
   "execution_count": 201,
   "id": "26e23908",
   "metadata": {},
   "outputs": [],
   "source": [
    "b = BankAccount(\"dev\",9671184054,8435343811,10000)"
   ]
  },
  {
   "cell_type": "code",
   "execution_count": 202,
   "id": "8dfcd8ec",
   "metadata": {},
   "outputs": [
    {
     "name": "stdout",
     "output_type": "stream",
     "text": [
      "ammount is debited from your ac no 9671184054 and ammount is debit 500 \n",
      "account balance is 9500\n"
     ]
    }
   ],
   "source": [
    "b.dabit(500)"
   ]
  },
  {
   "cell_type": "code",
   "execution_count": 203,
   "id": "95c9734a",
   "metadata": {},
   "outputs": [
    {
     "name": "stdout",
     "output_type": "stream",
     "text": [
      "total balace is 14500 and credit ammount is 5000\n"
     ]
    }
   ],
   "source": [
    "b.credit(5000)"
   ]
  },
  {
   "cell_type": "code",
   "execution_count": 204,
   "id": "be1ef580",
   "metadata": {},
   "outputs": [
    {
     "name": "stdout",
     "output_type": "stream",
     "text": [
      "ammount is debited from your ac no 9671184054 and ammount is debit 500 \n",
      "account balance is 14000\n"
     ]
    }
   ],
   "source": [
    "b.dabit(500)"
   ]
  },
  {
   "cell_type": "code",
   "execution_count": 205,
   "id": "51fbc155",
   "metadata": {},
   "outputs": [],
   "source": [
    "s = SavingAccount(\"dev\",85258,8435343811)"
   ]
  },
  {
   "cell_type": "code",
   "execution_count": 206,
   "id": "21382145",
   "metadata": {},
   "outputs": [
    {
     "name": "stdout",
     "output_type": "stream",
     "text": [
      "total balace is 7000 and credit ammount is 2000\n",
      "intrest rate for saving account is 5% as per total balance\n",
      "intrest rate is 3%\n",
      "intrest is on total balance below 7210.0 and intrest is  210.0\n"
     ]
    }
   ],
   "source": [
    "s.interest_rate(\"dev\",85258,8435343811,5000,2000)"
   ]
  },
  {
   "cell_type": "code",
   "execution_count": 207,
   "id": "634b176a",
   "metadata": {},
   "outputs": [
    {
     "name": "stdout",
     "output_type": "stream",
     "text": [
      "total balace is 7710.0 and credit ammount is 500\n"
     ]
    }
   ],
   "source": [
    "s.credit(500)"
   ]
  },
  {
   "cell_type": "code",
   "execution_count": 208,
   "id": "80adbe34",
   "metadata": {},
   "outputs": [
    {
     "name": "stdout",
     "output_type": "stream",
     "text": [
      "ammount is debited from your ac no 85258 and ammount is debit 50 \n",
      "account balance is 7660.0\n"
     ]
    }
   ],
   "source": [
    "s.dabit(50)"
   ]
  },
  {
   "cell_type": "code",
   "execution_count": null,
   "id": "e5b7f57d",
   "metadata": {},
   "outputs": [],
   "source": []
  },
  {
   "cell_type": "code",
   "execution_count": 209,
   "id": "b7780c7a",
   "metadata": {},
   "outputs": [
    {
     "data": {
      "text/plain": [
       "7660.0"
      ]
     },
     "execution_count": 209,
     "metadata": {},
     "output_type": "execute_result"
    }
   ],
   "source": [
    "s.balance"
   ]
  },
  {
   "cell_type": "code",
   "execution_count": null,
   "id": "a22cdada",
   "metadata": {},
   "outputs": [],
   "source": []
  }
 ],
 "metadata": {
  "kernelspec": {
   "display_name": "Python 3 (ipykernel)",
   "language": "python",
   "name": "python3"
  },
  "language_info": {
   "codemirror_mode": {
    "name": "ipython",
    "version": 3
   },
   "file_extension": ".py",
   "mimetype": "text/x-python",
   "name": "python",
   "nbconvert_exporter": "python",
   "pygments_lexer": "ipython3",
   "version": "3.9.12"
  }
 },
 "nbformat": 4,
 "nbformat_minor": 5
}
